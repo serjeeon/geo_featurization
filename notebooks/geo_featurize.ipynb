{
 "cells": [
  {
   "cell_type": "code",
   "execution_count": 1,
   "metadata": {},
   "outputs": [],
   "source": [
    "import os\n",
    "os.chdir('..')"
   ]
  },
  {
   "cell_type": "code",
   "execution_count": 2,
   "metadata": {},
   "outputs": [],
   "source": [
    "import keplergl\n",
    "import pickle\n",
    "import warnings\n",
    "import yaml\n",
    "\n",
    "from src.data import data_utils\n",
    "from src.geo import geo_utils\n",
    "from src.geo.geo_object import GeoObject, FeaturizedLayer\n",
    "from src.features.featurize import Featurization, GeoFeaturizer\n",
    "\n",
    "warnings.filterwarnings('ignore')\n",
    "CONFIG_PATH = 'config/config_moscow.yaml'"
   ]
  },
  {
   "cell_type": "markdown",
   "metadata": {},
   "source": [
    "### Read a config file"
   ]
  },
  {
   "cell_type": "code",
   "execution_count": 3,
   "metadata": {},
   "outputs": [
    {
     "data": {
      "text/plain": [
       "{'project_name': 'Moscow',\n",
       " 'osm_shp_url': 'http://download.geofabrik.de/russia/central-fed-district-latest-free.shp.zip',\n",
       " 'force_download_data': False,\n",
       " 'path_to_data_raw': 'data/raw',\n",
       " 'path_to_data_interim': 'data/interim',\n",
       " 'path_to_data_processed': 'data/processed',\n",
       " 'objects_to_featurize': {'h3': {'region_of_interest_shp': 'data/raw/Moscow.shp',\n",
       "   'hexagons_resolution': 9},\n",
       "  'polygons': {'layer_shp': 'coverage_moscow.shp'},\n",
       "  'points': {'layer_shp': 'places.shp'}},\n",
       " 'geo_objects': [{'eat_point': {'shp': 'gis_osm_pois_free_1.shp',\n",
       "    'filters': {'fclass': ['restaurant',\n",
       "      'cafe',\n",
       "      'biergarten',\n",
       "      'fast_food',\n",
       "      'food_court']}}},\n",
       "  {'drink_point': {'shp': 'gis_osm_pois_free_1.shp',\n",
       "    'filters': {'fclass': ['pub', 'bar']}}},\n",
       "  {'shop_point': {'shp': 'gis_osm_pois_free_1.shp',\n",
       "    'filters': {'fclass': ['bakery',\n",
       "      'books',\n",
       "      'convenience',\n",
       "      'department_store',\n",
       "      'mall',\n",
       "      'supermarket',\n",
       "      'beverages',\n",
       "      'butcher',\n",
       "      'chemist',\n",
       "      'clothes',\n",
       "      'shoes',\n",
       "      'garden_centre',\n",
       "      'kiosk',\n",
       "      'newsagent',\n",
       "      'optician',\n",
       "      'stationery',\n",
       "      'florist',\n",
       "      'gift_shop',\n",
       "      'shoe_shop',\n",
       "      'furniture_shop',\n",
       "      'beauty_shop',\n",
       "      'bookshop',\n",
       "      'bicycle_shop',\n",
       "      'mobile_phone_shop',\n",
       "      'computer_shop',\n",
       "      'sports_shop',\n",
       "      'toy_shop',\n",
       "      'outdoor_shop',\n",
       "      'video_shop',\n",
       "      'alcohol']}}},\n",
       "  {'education_point': {'shp': 'gis_osm_pois_free_1.shp',\n",
       "    'filters': {'fclass': ['school',\n",
       "      'kindergarten',\n",
       "      'library',\n",
       "      'college',\n",
       "      'university']}}},\n",
       "  {'mobile_phone_shop_point': {'shp': 'gis_osm_pois_free_1.shp',\n",
       "    'filters': {'fclass': ['mobile_phone_shop']}}},\n",
       "  {'railway_station_point': {'shp': 'gis_osm_transport_free_1.shp',\n",
       "    'filters': {'fclass': ['railway_station']}}},\n",
       "  {'bus_stop_point': {'shp': 'gis_osm_transport_free_1.shp',\n",
       "    'filters': {'fclass': ['bus_stop']}}},\n",
       "  {'building_polygon': {'shp': 'gis_osm_buildings_a_free_1.shp',\n",
       "    'filters': {'fclass': ['building']}}}],\n",
       " 'featurizations': [{'eat_number': {'operation': 'count_contains',\n",
       "    'geo_object': 'eat_point'}},\n",
       "  {'drink_number': {'operation': 'count_contains',\n",
       "    'geo_object': 'drink_point'}},\n",
       "  {'shop_number': {'operation': 'count_contains', 'geo_object': 'shop_point'}},\n",
       "  {'education_number': {'operation': 'count_contains',\n",
       "    'geo_object': 'education_point'}},\n",
       "  {'mobile_phone_shop_number': {'operation': 'count_contains',\n",
       "    'geo_object': 'mobile_phone_shop_point'}},\n",
       "  {'railway_station_point_number': {'operation': 'count_contains',\n",
       "    'geo_object': 'railway_station_point'}},\n",
       "  {'bus_stop_point_number': {'operation': 'count_contains',\n",
       "    'geo_object': 'bus_stop_point'}},\n",
       "  {'building_number': {'operation': 'count_intersects',\n",
       "    'geo_object': 'building_polygon'}},\n",
       "  {'distance_to_nearest_railway_station': {'operation': 'distance_to_nearest',\n",
       "    'geo_object': 'railway_station_point'}},\n",
       "  {'distance_to_nearest_bus_stop': {'operation': 'distance_to_nearest',\n",
       "    'geo_object': 'bus_stop_point'}}]}"
      ]
     },
     "execution_count": 3,
     "metadata": {},
     "output_type": "execute_result"
    }
   ],
   "source": [
    "config = yaml.load(open(CONFIG_PATH), Loader=yaml.FullLoader)\n",
    "config"
   ]
  },
  {
   "cell_type": "markdown",
   "metadata": {},
   "source": [
    "### Download OSM dump"
   ]
  },
  {
   "cell_type": "code",
   "execution_count": 4,
   "metadata": {},
   "outputs": [],
   "source": [
    "# data_utils.download_osm_data(config['osm_shp_url'], config['path_to_data_raw'] + config['project_name'])"
   ]
  },
  {
   "cell_type": "markdown",
   "metadata": {},
   "source": [
    "### Create some objects from the config file"
   ]
  },
  {
   "cell_type": "code",
   "execution_count": 5,
   "metadata": {},
   "outputs": [],
   "source": [
    "region_of_interest = geo_utils.load_shp(config['objects_to_featurize']['h3']['region_of_interest_shp'])"
   ]
  },
  {
   "cell_type": "code",
   "execution_count": 6,
   "metadata": {},
   "outputs": [],
   "source": [
    "feat_layer_hex = FeaturizedLayer.from_hexagons(\n",
    "    config['objects_to_featurize']['h3']['region_of_interest_shp'], \n",
    "    config['objects_to_featurize']['h3']['hexagons_resolution'])\n",
    "feat_layer_hex.layer.plot();"
   ]
  },
  {
   "cell_type": "code",
   "execution_count": 7,
   "metadata": {},
   "outputs": [],
   "source": [
    "# feat_layer_shp = FeaturizedLayer.from_shp(\n",
    "#     config['path_to_data_raw'] + '/' + config['objects_to_featurize']['polygons']['layer_shp'])\n",
    "# feat_layer_shp.layer.plot();"
   ]
  },
  {
   "cell_type": "code",
   "execution_count": 8,
   "metadata": {},
   "outputs": [],
   "source": [
    "geo_objects = {}\n",
    "for geo_obj_desc in config['geo_objects']:\n",
    "    geo_object_name = list(geo_obj_desc.keys())[0]\n",
    "    shp_filename = geo_obj_desc[geo_object_name]['shp']\n",
    "    filters = geo_obj_desc[geo_object_name]['filters']\n",
    "    geo_object = GeoObject(geo_object_name, config['path_to_data_raw'] \n",
    "                           + '/' + config['project_name'] + '/' + shp_filename, \n",
    "                           filters, region_of_interest)\n",
    "    geo_objects[geo_object_name] = geo_object"
   ]
  },
  {
   "cell_type": "code",
   "execution_count": 9,
   "metadata": {},
   "outputs": [],
   "source": [
    "featurizations = []\n",
    "\n",
    "for feat in config['featurizations']:\n",
    "    name = list(feat.keys())[0]\n",
    "    operation = feat[name]['operation']\n",
    "    geo_object_name = feat[name]['geo_object']\n",
    "    featurization = Featurization(name, operation, geo_object_name, feat[name])\n",
    "    featurizations.append(featurization)"
   ]
  },
  {
   "cell_type": "markdown",
   "metadata": {},
   "source": [
    "### Create the main object - Featurizer and start geo featurization"
   ]
  },
  {
   "cell_type": "code",
   "execution_count": 10,
   "metadata": {},
   "outputs": [],
   "source": [
    "featurizer = GeoFeaturizer(feat_layer_hex, geo_objects, featurizations)\n",
    "# featurizer = GeoFeaturizer(feat_layer_shp, geo_objects, featurizations)\n",
    "featurizer.featurize()"
   ]
  },
  {
   "cell_type": "code",
   "execution_count": 20,
   "metadata": {},
   "outputs": [],
   "source": [
    "# featurizer.featurized_layer.layer.to_file(\"tmp.shp\")"
   ]
  },
  {
   "cell_type": "code",
   "execution_count": 26,
   "metadata": {},
   "outputs": [
    {
     "data": {
      "text/html": [
       "<div>\n",
       "<style scoped>\n",
       "    .dataframe tbody tr th:only-of-type {\n",
       "        vertical-align: middle;\n",
       "    }\n",
       "\n",
       "    .dataframe tbody tr th {\n",
       "        vertical-align: top;\n",
       "    }\n",
       "\n",
       "    .dataframe thead th {\n",
       "        text-align: right;\n",
       "    }\n",
       "</style>\n",
       "<table border=\"1\" class=\"dataframe\">\n",
       "  <thead>\n",
       "    <tr style=\"text-align: right;\">\n",
       "      <th></th>\n",
       "      <th>hex_id</th>\n",
       "      <th>geometry</th>\n",
       "      <th>eat_number</th>\n",
       "      <th>drink_number</th>\n",
       "      <th>shop_number</th>\n",
       "      <th>education_number</th>\n",
       "      <th>mobile_phone_shop_number</th>\n",
       "      <th>railway_station_point_number</th>\n",
       "      <th>bus_stop_point_number</th>\n",
       "      <th>building_number</th>\n",
       "      <th>dist_distance_to_nearest_railway_station</th>\n",
       "      <th>dist_distance_to_nearest_bus_stop</th>\n",
       "    </tr>\n",
       "  </thead>\n",
       "  <tbody>\n",
       "    <tr>\n",
       "      <th>0</th>\n",
       "      <td>8911aa09307ffff</td>\n",
       "      <td>POLYGON ((37.29423 55.80143, 37.29663 55.80038...</td>\n",
       "      <td>2</td>\n",
       "      <td>0</td>\n",
       "      <td>0</td>\n",
       "      <td>0</td>\n",
       "      <td>0</td>\n",
       "      <td>0</td>\n",
       "      <td>0</td>\n",
       "      <td>3</td>\n",
       "      <td>0.078450</td>\n",
       "      <td>0.002605</td>\n",
       "    </tr>\n",
       "    <tr>\n",
       "      <th>1</th>\n",
       "      <td>8911aa0930fffff</td>\n",
       "      <td>POLYGON ((37.29627 55.79856, 37.29867 55.79752...</td>\n",
       "      <td>0</td>\n",
       "      <td>0</td>\n",
       "      <td>0</td>\n",
       "      <td>0</td>\n",
       "      <td>0</td>\n",
       "      <td>0</td>\n",
       "      <td>1</td>\n",
       "      <td>3</td>\n",
       "      <td>0.078421</td>\n",
       "      <td>0.001426</td>\n",
       "    </tr>\n",
       "    <tr>\n",
       "      <th>2</th>\n",
       "      <td>8911aa09303ffff</td>\n",
       "      <td>POLYGON ((37.29113 55.79884, 37.29352 55.79780...</td>\n",
       "      <td>0</td>\n",
       "      <td>0</td>\n",
       "      <td>0</td>\n",
       "      <td>0</td>\n",
       "      <td>0</td>\n",
       "      <td>0</td>\n",
       "      <td>0</td>\n",
       "      <td>0</td>\n",
       "      <td>0.082465</td>\n",
       "      <td>0.005395</td>\n",
       "    </tr>\n",
       "    <tr>\n",
       "      <th>3</th>\n",
       "      <td>8911aa0933bffff</td>\n",
       "      <td>POLYGON ((37.29938 55.80115, 37.30177 55.80010...</td>\n",
       "      <td>2</td>\n",
       "      <td>0</td>\n",
       "      <td>0</td>\n",
       "      <td>0</td>\n",
       "      <td>0</td>\n",
       "      <td>0</td>\n",
       "      <td>0</td>\n",
       "      <td>2</td>\n",
       "      <td>0.074392</td>\n",
       "      <td>0.003192</td>\n",
       "    </tr>\n",
       "    <tr>\n",
       "      <th>4</th>\n",
       "      <td>8911aa78a8bffff</td>\n",
       "      <td>POLYGON ((37.68358 55.71897, 37.68597 55.71792...</td>\n",
       "      <td>0</td>\n",
       "      <td>0</td>\n",
       "      <td>0</td>\n",
       "      <td>0</td>\n",
       "      <td>0</td>\n",
       "      <td>0</td>\n",
       "      <td>0</td>\n",
       "      <td>17</td>\n",
       "      <td>0.005551</td>\n",
       "      <td>0.003080</td>\n",
       "    </tr>\n",
       "  </tbody>\n",
       "</table>\n",
       "</div>"
      ],
      "text/plain": [
       "            hex_id                                           geometry  \\\n",
       "0  8911aa09307ffff  POLYGON ((37.29423 55.80143, 37.29663 55.80038...   \n",
       "1  8911aa0930fffff  POLYGON ((37.29627 55.79856, 37.29867 55.79752...   \n",
       "2  8911aa09303ffff  POLYGON ((37.29113 55.79884, 37.29352 55.79780...   \n",
       "3  8911aa0933bffff  POLYGON ((37.29938 55.80115, 37.30177 55.80010...   \n",
       "4  8911aa78a8bffff  POLYGON ((37.68358 55.71897, 37.68597 55.71792...   \n",
       "\n",
       "   eat_number  drink_number  shop_number  education_number  \\\n",
       "0           2             0            0                 0   \n",
       "1           0             0            0                 0   \n",
       "2           0             0            0                 0   \n",
       "3           2             0            0                 0   \n",
       "4           0             0            0                 0   \n",
       "\n",
       "   mobile_phone_shop_number  railway_station_point_number  \\\n",
       "0                         0                             0   \n",
       "1                         0                             0   \n",
       "2                         0                             0   \n",
       "3                         0                             0   \n",
       "4                         0                             0   \n",
       "\n",
       "   bus_stop_point_number  building_number  \\\n",
       "0                      0                3   \n",
       "1                      1                3   \n",
       "2                      0                0   \n",
       "3                      0                2   \n",
       "4                      0               17   \n",
       "\n",
       "   dist_distance_to_nearest_railway_station  dist_distance_to_nearest_bus_stop  \n",
       "0                                  0.078450                           0.002605  \n",
       "1                                  0.078421                           0.001426  \n",
       "2                                  0.082465                           0.005395  \n",
       "3                                  0.074392                           0.003192  \n",
       "4                                  0.005551                           0.003080  "
      ]
     },
     "execution_count": 26,
     "metadata": {},
     "output_type": "execute_result"
    }
   ],
   "source": [
    "featurizer.featurized_layer.layer.head()"
   ]
  },
  {
   "cell_type": "markdown",
   "metadata": {},
   "source": [
    "### Visualize results using Kepler"
   ]
  },
  {
   "cell_type": "code",
   "execution_count": 3,
   "metadata": {},
   "outputs": [],
   "source": [
    "# import keplergl\n",
    "\n",
    "# with open('map_config_railway', 'rb') as f:\n",
    "#     config1 = pickle.load(f)\n",
    "\n",
    "# map_kepler = keplergl.KeplerGl(height=800, config=config1)\n",
    "# map_kepler.add_data(data=featurizer.featurized_layer.layer, name='feat_layer')\n",
    "# map_kepler"
   ]
  },
  {
   "cell_type": "markdown",
   "metadata": {},
   "source": [
    "## Visualization samples"
   ]
  },
  {
   "cell_type": "markdown",
   "metadata": {},
   "source": [
    "#### Number of buildings in a hexagon 3D"
   ]
  },
  {
   "cell_type": "markdown",
   "metadata": {},
   "source": [
    "<img src='../samples/moscow_buildings_num_3d.png'>"
   ]
  },
  {
   "cell_type": "markdown",
   "metadata": {},
   "source": [
    "#### Number of buildings in a hexagon 3D"
   ]
  },
  {
   "cell_type": "markdown",
   "metadata": {},
   "source": [
    "<img src='../samples/moscow_buildins_num_water.png'>"
   ]
  },
  {
   "cell_type": "markdown",
   "metadata": {},
   "source": [
    "#### Distance from a hexagon's centroid to the nearest railway/subway station"
   ]
  },
  {
   "cell_type": "markdown",
   "metadata": {},
   "source": [
    "<img src='../samples/moscow_distance_to_railway.png'>"
   ]
  },
  {
   "cell_type": "markdown",
   "metadata": {},
   "source": [
    "## HTML Sample"
   ]
  },
  {
   "cell_type": "markdown",
   "metadata": {},
   "source": [
    "<a href='../samples/map_dist_to_railway.html'>Distance from a hexagon's centroid to the nearest railway/subway station</a>"
   ]
  },
  {
   "cell_type": "code",
   "execution_count": 8,
   "metadata": {},
   "outputs": [],
   "source": [
    "# operations_todo = {'distance_to_nearest', 'features_agg_buffer', 'features_of_nearest', \n",
    "#                    'count_contains', 'count_intersects', 'count_in_buffer', \n",
    "#                    'coverage_percent', 'is_in', 'count_contains_bin', 'distance_to_nearest_bin'}"
   ]
  }
 ],
 "metadata": {
  "kernelspec": {
   "display_name": "Python 3",
   "language": "python",
   "name": "python3"
  },
  "language_info": {
   "codemirror_mode": {
    "name": "ipython",
    "version": 3
   },
   "file_extension": ".py",
   "mimetype": "text/x-python",
   "name": "python",
   "nbconvert_exporter": "python",
   "pygments_lexer": "ipython3",
   "version": "3.7.3"
  }
 },
 "nbformat": 4,
 "nbformat_minor": 2
}
